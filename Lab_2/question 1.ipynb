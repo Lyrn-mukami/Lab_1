{
  "nbformat": 4,
  "nbformat_minor": 0,
  "metadata": {
    "colab": {
      "provenance": []
    },
    "kernelspec": {
      "name": "python3",
      "display_name": "Python 3"
    },
    "language_info": {
      "name": "python"
    }
  },
  "cells": [
    {
      "cell_type": "code",
      "execution_count": 10,
      "metadata": {
        "colab": {
          "base_uri": "https://localhost:8080/"
        },
        "id": "BQwEl2-UDV3p",
        "outputId": "e409c7c2-aa05-4e5e-d77f-165c8f774567"
      },
      "outputs": [
        {
          "output_type": "stream",
          "name": "stdout",
          "text": [
            "Comments present in the code:\n",
            "['# This is a comment', \"'''Hello World'''\"]\n"
          ]
        }
      ],
      "source": [
        "def identify_comments(code_lines):\n",
        "    comments = []\n",
        "    for line in code_lines:\n",
        "        if line.strip().startswith(\"#\") or line.strip().startswith(\"'''\") or line.strip().startswith('\"\"\"'):\n",
        "            comments.append(line)\n",
        "    return comments\n",
        "\n",
        "# Example usage\n",
        "code_lines = [\n",
        "    \"print('Hello, World!')\",  # Not a comment\n",
        "    \"# This is a comment\",      # Comment\n",
        "    \"var x = 10;\",  # Not a comment\n",
        "    \"/* This is a multiline comment\",\n",
        "    \" spanning multiple lines */\",       # Not a comment in python\n",
        "    \"'''Hello World'''\" # Multiline comment\n",
        "]\n",
        "\n",
        "comments = identify_comments(code_lines)\n",
        "print(\"Comments present in the code:\")\n",
        "print(comments)\n"
      ]
    },
    {
      "cell_type": "code",
      "source": [
        "import re\n",
        "\n",
        "def is_valid_identifier(identifier):\n",
        "    regex_pattern = r'^[a-zA-Z_][a-zA-Z0-9_]*$'\n",
        "    return re.match(regex_pattern, identifier) is not None\n",
        "\n",
        "# Example usage\n",
        "identifier = input(\"Enter an identifier: \")\n",
        "if is_valid_identifier(identifier):\n",
        "    print(f\"{identifier} is a valid identifier.\")\n",
        "else:\n",
        "    print(f\"{identifier} is not a valid identifier.\")\n"
      ],
      "metadata": {
        "colab": {
          "base_uri": "https://localhost:8080/"
        },
        "id": "_ABOPLGWOzZY",
        "outputId": "d454368c-0ebb-4965-a833-f3da9131c350"
      },
      "execution_count": null,
      "outputs": [
        {
          "output_type": "stream",
          "name": "stdout",
          "text": [
            "Enter an identifier: op\n",
            "op is a valid identifier.\n"
          ]
        }
      ]
    }
  ]
}