{
  "cells": [
    {
      "cell_type": "code",
      "execution_count": null,
      "metadata": {
        "colab": {
          "base_uri": "https://localhost:8080/"
        },
        "id": "BQwEl2-UDV3p",
        "outputId": "e409c7c2-aa05-4e5e-d77f-165c8f774567"
      },
      "outputs": [
        {
          "name": "stdout",
          "output_type": "stream",
          "text": [
            "Comments present in the code:\n",
            "['# This is a comment', \"'''Hello World'''\"]\n"
          ]
        }
      ],
      "source": [
        "def identify_comments(code_lines):\n",
        "    comments = []\n",
        "    for line in code_lines:\n",
        "        if line.strip().startswith(\"#\") or line.strip().startswith(\"'''\") or line.strip().startswith('\"\"\"'):\n",
        "            comments.append(line)\n",
        "    return comments\n",
        "\n",
        "# Example usage\n",
        "code_lines = [\n",
        "    \"print('Hello, World!')\",  # Not a comment\n",
        "    \"# This is a comment\",      # Comment\n",
        "    \"var x = 10;\",  # Not a comment\n",
        "    \"/* This is a multiline comment\",\n",
        "    \" spanning multiple lines */\",       # Not a comment in python\n",
        "    \"'''Hello World'''\" # Multiline comment\n",
        "]\n",
        "\n",
        "comments = identify_comments(code_lines)\n",
        "print(\"Comments present in the code:\")\n",
        "print(comments)\n"
      ]
    },
    {
      "cell_type": "code",
      "execution_count": null,
      "metadata": {
        "id": "dQ64nihgPKtx"
      },
      "outputs": [],
      "source": [
        "# (i)logic used\n",
        "#  The primary goal of the code is to identify lines of code as either comments or non-comments.\n",
        "# The function uses regular expressions to perform lexical analysis for comment detection.\n",
        "# For each line in `code_lines`, it performs the following steps:\n",
        "#       . It strips leading and trailing whitespace from the line using `line.strip()`.\n",
        "#      .  It then applies a regular expression pattern using `re.match` to check if the stripped line starts with either `#` (indicating a Python-style comment) or `//` (indicating a C++-style comment).\n",
        "#      . If the regular expression pattern matches, it considers the line as a comment and adds it to the `comments` list.\n",
        "\n",
        "#  After processing all lines, it returns the `comments` list, which contains all the identified comment lines.\n",
        "\n",
        "\n",
        "# (ii) Was lexical analysis or/and syntax analysis concepts important in your logic? If yes, how?\n",
        "\n",
        "\n",
        "# Lexical Analysis is important\n",
        "\n",
        "# Is used to identify_comments function, lexical analysis is important for identifying comments.\n",
        "# It focuses on recognizing individual lines of code based on lexical patterns (lines starting with # or //).\n",
        "# The re is used to match lines that represent comments.\n",
        "# syntax analysis is not relevant because we are not performing any structural analysis of the code beyond the lexical level."
      ]
    }
  ],
  "metadata": {
    "colab": {
      "provenance": []
    },
    "kernelspec": {
      "display_name": "Python 3",
      "name": "python3"
    },
    "language_info": {
      "name": "python"
    }
  },
  "nbformat": 4,
  "nbformat_minor": 0
}
