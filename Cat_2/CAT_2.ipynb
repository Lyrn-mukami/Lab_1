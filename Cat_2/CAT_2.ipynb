{
  "nbformat": 4,
  "nbformat_minor": 0,
  "metadata": {
    "colab": {
      "provenance": []
    },
    "kernelspec": {
      "name": "python3",
      "display_name": "Python 3"
    },
    "language_info": {
      "name": "python"
    }
  },
  "cells": [
    {
      "cell_type": "code",
      "source": [
        "pip install graphviz"
      ],
      "metadata": {
        "colab": {
          "base_uri": "https://localhost:8080/"
        },
        "id": "9a5UfvAwLcaM",
        "outputId": "5f97bf37-07da-481d-cf97-ea889d4abf3b"
      },
      "execution_count": 3,
      "outputs": [
        {
          "output_type": "stream",
          "name": "stdout",
          "text": [
            "Requirement already satisfied: graphviz in /usr/local/lib/python3.10/dist-packages (0.20.1)\n"
          ]
        }
      ]
    },
    {
      "cell_type": "code",
      "execution_count": 13,
      "metadata": {
        "colab": {
          "base_uri": "https://localhost:8080/",
          "height": 285
        },
        "id": "t_uGVBrGKyw6",
        "outputId": "b63fa289-95b8-4065-ee00-48fa7fb40b82"
      },
      "outputs": [
        {
          "name": "stdout",
          "output_type": "stream",
          "text": [
            "Input an expression: 3 + 4 * 2\n"
          ]
        },
        {
          "output_type": "display_data",
          "data": {
            "image/png": "[encoded data removed]",
            "text/plain": [
              "<IPython.core.display.Image object>"
            ]
          },
          "metadata": {}
        }
      ],
      "source": [
        "import re\n",
        "from graphviz import Digraph\n",
        "from IPython.display import Image, display\n",
        "\n",
        "class SyntaxTree:\n",
        "    def __init__(self, value):\n",
        "        self.value = value\n",
        "        self.left = None\n",
        "        self.right = None\n",
        "\n",
        "def parse_expression(tokens):\n",
        "    root = parse_term(tokens)\n",
        "\n",
        "    while tokens and (tokens[0] == '+' or tokens[0] == '-' or tokens[0] == '*' or tokens[0] == '/'):\n",
        "        operator = tokens.pop(0)\n",
        "        right = parse_term(tokens)\n",
        "        new_root = SyntaxTree(operator)\n",
        "        new_root.left = root\n",
        "        new_root.right = right\n",
        "        root = new_root\n",
        "\n",
        "    return root\n",
        "\n",
        "def parse_term(tokens):\n",
        "    token = tokens.pop(0)\n",
        "    if re.match(r'\\d+', token):\n",
        "        return SyntaxTree(int(token))\n",
        "    else:\n",
        "        raise SyntaxError(f\"Invalid token: {token}\")\n",
        "\n",
        "def build_syntax_tree(input_string):\n",
        "    tokens = re.findall(r'(\\d+|\\+|-|\\*|/)', input_string)\n",
        "    tree = parse_expression(tokens)\n",
        "    return tree\n",
        "\n",
        "def create_dot_graph(node, dot=None):\n",
        "    if dot is None:\n",
        "        dot = Digraph(comment='Syntax Tree')\n",
        "\n",
        "    if node:\n",
        "        dot.node(str(id(node)), str(node.value))\n",
        "        if node.left:\n",
        "            dot.node(str(id(node.left)), str(node.left.value))\n",
        "            dot.edge(str(id(node)), str(id(node.left)))\n",
        "            create_dot_graph(node.left, dot)\n",
        "        if node.right:\n",
        "            dot.node(str(id(node.right)), str(node.right.value))\n",
        "            dot.edge(str(id(node)), str(id(node.right)))\n",
        "            create_dot_graph(node.right, dot)\n",
        "\n",
        "    return dot\n",
        "\n",
        "def visualize_syntax_tree(tree):\n",
        "    dot = create_dot_graph(tree)\n",
        "    dot.render('syntax_tree', format='png', cleanup=True)\n",
        "    display(Image(filename='syntax_tree.png'))\n",
        "\n",
        "\n",
        "  # Call the functions\n",
        "input_expr = input(\"Input an expression: \")\n",
        "tree = build_syntax_tree(input_expr)\n",
        "visualize_syntax_tree(tree)\n"
      ]
    }
  ]
}